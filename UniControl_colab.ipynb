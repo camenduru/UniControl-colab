{
  "cells": [
    {
      "cell_type": "markdown",
      "metadata": {
        "id": "view-in-github"
      },
      "source": [
        "[![Open In Colab](https://colab.research.google.com/assets/colab-badge.svg)](https://colab.research.google.com/github/camenduru/UniControl-colab/blob/main/UniControl_colab.ipynb)"
      ]
    },
    {
      "cell_type": "code",
      "execution_count": null,
      "metadata": {
        "id": "NrgcDwZxgDOe"
      },
      "outputs": [],
      "source": [
        "%cd /content\n",
        "!git clone -b dev https://github.com/camenduru/UniControl-Demo-hf\n",
        "!pip install gradio==3.36.1 einops==0.6.0 omegaconf==2.3.0 safetensors==0.3.1 diffusers==0.19.3 transformers==4.31.0 pytorch-lightning==1.9.0 open-clip-torch==2.13.0 basicsr==1.4.2 cvlib==0.2.7\n",
        "%cd /content/UniControl-Demo-hf\n",
        "!python app.py"
      ]
    }
  ],
  "metadata": {
    "accelerator": "GPU",
    "colab": {
      "gpuType": "T4",
      "provenance": []
    },
    "kernelspec": {
      "display_name": "Python 3",
      "name": "python3"
    },
    "language_info": {
      "name": "python"
    }
  },
  "nbformat": 4,
  "nbformat_minor": 0
}
